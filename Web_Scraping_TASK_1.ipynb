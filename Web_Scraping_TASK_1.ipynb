{
  "nbformat": 4,
  "nbformat_minor": 0,
  "metadata": {
    "colab": {
      "provenance": []
    },
    "kernelspec": {
      "name": "python3",
      "display_name": "Python 3"
    },
    "language_info": {
      "name": "python"
    }
  },
  "cells": [
    {
      "cell_type": "markdown",
      "source": [
        "For a Data Scientist to be truly succesful, he must be adept at all aspects of his craft.\n",
        "The first and the most important step for a data scientist in his/her project is to collect high quality data. As we all know, high quality data makes a high quality model.\n",
        "\n",
        "In this task, you are to gather data like the news(headlines) and factors related to certain stocks which will be given by user input.\n",
        "\n",
        "<mark>Your code should be generalized and must be able to scrape data of all the stock symbols given as input.</mark>\n",
        "\n",
        "Factors can be:\n",
        "\n",
        "1.Earnings\n",
        "\n",
        "2.Dividends\n",
        "\n",
        "3.Valuation\n",
        "\n",
        "4.Growth\n",
        "\n",
        "you can add any extra factors as you like\n",
        "\n",
        "you should use beautifulsoup and the requests library for web scraping\n",
        "\n",
        "you can use the following websites for data scraping:\n",
        "https://www.nseindia.com/\n",
        "\n",
        "https://www.moneycontrol.com/\n",
        "\n",
        "https://economictimes.indiatimes.com/markets\n",
        "\n",
        "https://stockanalysis.com/news/all-stocks/\n",
        "\n",
        "https://seekingalpha.com/market-news"
      ],
      "metadata": {
        "id": "ZhSu7UF1oXg4"
      }
    },
    {
      "cell_type": "code",
      "source": [
        "#import necessary libraries here\n"
      ],
      "metadata": {
        "id": "ho6WD9ufpZK2"
      },
      "execution_count": null,
      "outputs": []
    },
    {
      "cell_type": "markdown",
      "source": [
      "REMEMBER"
      "The goal of this task is to write reusable and generalized code which can scrape the most recent news headlines of the stock symbols given as input"
      ],
      "metadata": {
        "id": "tffcYUM_t6MQ"
      }
    },
    {
      "cell_type": "code",
      "source": [
        "#web scraping logic goes here, make sure to add proper comments for better readability of your code\n"
      ],
      "metadata": {
        "id": "6NmjZGFsqaMD"
      },
      "execution_count": null,
      "outputs": []
    }
  ]
}
