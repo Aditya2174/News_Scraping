{
  "nbformat": 4,
  "nbformat_minor": 0,
  "metadata": {
    "colab": {
      "provenance": []
    },
    "kernelspec": {
      "name": "python3",
      "display_name": "Python 3"
    },
    "language_info": {
      "name": "python"
    }
  },
  "cells": [
    {
      "cell_type": "markdown",
      "source": [
        "In this task, you are to scrape the latest, trending financial news headlines. (The news can start from the present day to 1 year before)\n",
        "\n",
        "the websites you can use are:\n",
        "\n",
        "https://www.nseindia.com/\n",
        "\n",
        "https://www.moneycontrol.com/\n",
        "\n",
        "https://economictimes.indiatimes.com/markets\n",
        "\n",
        "https://stockanalysis.com/news/all-stocks/\n",
        "\n",
        "https://seekingalpha.com/market-news\n",
        "\n",
        "your code must return a csv file containing the date when the headline was posted, the headline itself and any other relevant column.\n"
      ],
      "metadata": {
        "id": "MJCwRrOCxRLL"
      }
    },
    {
      "cell_type": "code",
      "source": [
        "#import necessary libraries here"
      ],
      "metadata": {
        "id": "yIpeeNmKzKtP"
      },
      "execution_count": null,
      "outputs": []
    },
    {
      "cell_type": "code",
      "source": [
        "#logic here"
      ],
      "metadata": {
        "id": "hfrioz97zojw"
      },
      "execution_count": null,
      "outputs": []
    }
  ]
}